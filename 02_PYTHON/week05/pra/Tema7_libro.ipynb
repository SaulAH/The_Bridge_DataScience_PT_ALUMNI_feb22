{
 "cells": [
  {
   "cell_type": "markdown",
   "metadata": {},
   "source": [
    "TRY IT YOURSELF\n",
    "\n",
    "7-1. Rental Car: Write a program that asks the user what kind of rental car they would like. Print a message about that car, such as “Let me see if I can find you a Subaru.”\n",
    "\n",
    "7-2. Restaurant Seating: Write a program that asks the user how many people are in their dinner group. If the answer is more than eight, print a message saying they’ll have to wait for a table. Otherwise, report that their table is ready.\n",
    "\n",
    "7-3. Multiples of Ten: Ask the user for a number, and then report whether the number is a multiple of 10 or not."
   ]
  },
  {
   "cell_type": "code",
   "execution_count": 8,
   "metadata": {},
   "outputs": [
    {
     "name": "stdout",
     "output_type": "stream",
     "text": [
      "Que tipo de coche te gustaría que buscase:\n",
      "Dejame ver si puedo encontrar un  Lambo\n"
     ]
    }
   ],
   "source": [
    "#7.1\n",
    "coche=input(print(\"Que tipo de coche te gustaría que buscase:\"))\n",
    "print(\"Dejame ver si puedo encontrar un \",car,)\n"
   ]
  },
  {
   "cell_type": "code",
   "execution_count": null,
   "metadata": {},
   "outputs": [],
   "source": [
    "#7.2\n",
    "mesa_cena=int(input(\"Cuantas personas sois para cenar:\"))\n",
    "if mesa_cena <=8:\n",
    "    print(\"Su mesa esta lista\")\n",
    "print(\"Lo siento deben esperar\")\n"
   ]
  },
  {
   "cell_type": "code",
   "execution_count": null,
   "metadata": {},
   "outputs": [],
   "source": [
    "#7.3\n",
    "numero=int(input(print(\"Introduce un número te dire si es multiplo de 10\")))\n",
    "if numero % 10 == 0:\n",
    "    print(\"El numero es multiplo de 10\")\n",
    "else:\n",
    "    print(\"El numero no es multiplo de 10 \")"
   ]
  },
  {
   "cell_type": "markdown",
   "metadata": {},
   "source": [
    "7-4. Pizza Toppings: Write a loop that prompts the user to enter a series of pizza toppings until they enter a 'quit' value. As they enter each topping, print a message saying you’ll add that topping to their pizza.\n",
    "\n",
    "7-5. Movie Tickets: A movie theater charges different ticket prices depending on a person’s age. If a person is under the age of 3, the ticket is free; if they are between 3 and 12, the ticket is $10; and if they are over age 12, the ticket is $15. Write a loop in which you ask users their age, and then tell them the cost of their movie ticket.\n",
    "\n",
    "7-6. Three Exits: Write different versions of either Exercise 7-4 or Exercise 7-5 that do each of the following at least once:\n",
    "\n",
    "Use a conditional test in the while statement to stop the loop.\n",
    "Use an active variable to control how long the loop runs.\n",
    "Use a break statement to exit the loop when the user enters a 'quit' value.\n",
    "\n",
    "\n"
   ]
  },
  {
   "cell_type": "code",
   "execution_count": null,
   "metadata": {},
   "outputs": [],
   "source": [
    "#7.4\n",
    "ingrediente=\"\"\n",
    "ingredientes=[]\n",
    "while ingrediente != \"salir\":\n",
    "    ingrediente=input(print(\"Introduce los ingrediente de tu pizza:\"))\n",
    "    ingredientes.append(ingrediente)\n",
    "ingredientes.pop(-1)\n",
    "print(ingredientes)\n",
    "\n"
   ]
  },
  {
   "cell_type": "code",
   "execution_count": null,
   "metadata": {},
   "outputs": [],
   "source": [
    "#7.5\n",
    "edad=int(input(print(\"Introduce tu edad, te dire el precio de tu entrada:\")))\n",
    "if edad < 3:\n",
    "    print(\"No pagas nada\")\n",
    "elif edad >=3 and edad <=12:\n",
    "    print(\"Tu entrada cuesta: 10 euros\")\n",
    "else:\n",
    "    print(\"Tu entrada cuesta: 15 euros\")"
   ]
  },
  {
   "cell_type": "code",
   "execution_count": null,
   "metadata": {},
   "outputs": [],
   "source": [
    "#7.6.1\n",
    "import time\n",
    "tiempo=0\n",
    "ingrediente=\"\"\n",
    "ingredientes=[]\n",
    "while ingrediente != \"salir\": # condición salida\n",
    "    ingrediente=input(print(\"Introduce los ingrediente de tu pizza:\"))\n",
    "    ingredientes.append(ingrediente)\n",
    "    inicio=time.perf_counter() # tiempo en formato extraño, revisar función\n",
    "fin=time.perf_counter() # No se porque time.time() da cero siempre\n",
    "tiempo=fin-inicio\n",
    "ingredientes.pop(-1)\n",
    "print(ingredientes, round(tiempo,5)) # redondeamos numero sea mas legible\n"
   ]
  },
  {
   "cell_type": "code",
   "execution_count": 67,
   "metadata": {},
   "outputs": [
    {
     "name": "stdout",
     "output_type": "stream",
     "text": [
      "Para salir del programa introduce salir \n",
      "Introduce tu edad, te dire el precio de tu entrada:\n"
     ]
    }
   ],
   "source": [
    "#7.6.2\n",
    "print(\"Para salir del programa introduce \"\"salir\"\" \")\n",
    "edad=[\"0\"]\n",
    "tiempo=0\n",
    "while edad != \"salir\":\n",
    "    inicio=time.perf_counter()\n",
    "    edad=str(input(print(\"Introduce tu edad, te dire el precio de tu entrada:\")))\n",
    "    if edad < \"3\":\n",
    "        print(\"No pagas nada\")\n",
    "    elif edad >=\"3\" and edad <=\"12\":\n",
    "        print(\"Tu entrada cuesta: 10 euros\")\n",
    "    elif edad > \"13\" and edad !=\"salir\":\n",
    "        print(\"Tu entrada cuesta: 15 euros\")\n",
    "    else:\n",
    "        fin=time.perf_counter()\n",
    "        tiempo=fin-inicio\n",
    "        break\n"
   ]
  },
  {
   "cell_type": "markdown",
   "metadata": {},
   "source": [
    "7-7. Infinity: Write a loop that never ends, and run it. (To end the loop, press CTRL-C or close the window displaying the output.)"
   ]
  },
  {
   "cell_type": "code",
   "execution_count": null,
   "metadata": {},
   "outputs": [],
   "source": [
    "i=2\n",
    "while i > 1:\n",
    "    print(\"hola\")"
   ]
  },
  {
   "cell_type": "markdown",
   "metadata": {},
   "source": [
    "7-8. Deli: Make a list called sandwich_orders and fill it with the names of various sandwiches. Then make an empty list called finished_sandwiches. Loop through the list of sandwich orders and print a message for each order, such as I made your tuna sandwich. As each sandwich is made, move it to the list of finished sandwiches. After all the sandwiches have been made, print a message listing each sandwich that was made.\n",
    "\n",
    "7-9. No Pastrami: Using the list sandwich_orders from Exercise 7-8, make sure the sandwich 'pastrami' appears in the list at least three times. Add code near the beginning of your program to print a message saying the deli has run out of pastrami, and then use a while loop to remove all occurrences of 'pastrami' from sandwich_orders. Make sure no pastrami sandwiches end up in finished_sandwiches.\n",
    "\n",
    "7-10. Dream Vacation: Write a program that polls users about their dream vacation. Write a prompt similar to If you could visit one place in the world, where would you go? Include a block of code that prints the results of the poll."
   ]
  },
  {
   "cell_type": "code",
   "execution_count": null,
   "metadata": {},
   "outputs": [],
   "source": [
    "#7.8\n",
    "sandwich_orders=[\"pastrami\",\"mixto\",\"vegetal\",\"pastrami\",\"pollo\",\"pastrami\"]\n",
    "finish_sandwich=[]\n",
    "tamaño=len(sandwich_orders)\n",
    "while len(finish_sandwich) < tamaño:\n",
    "    for i in sandwich_orders:\n",
    "        print(\"Hice su sandwich\",i)\n",
    "        finish_sandwich.append(i)\n",
    "        sandwich_orders.remove(i)\n",
    "print(finish_sandwich)    \n",
    "            "
   ]
  },
  {
   "cell_type": "code",
   "execution_count": null,
   "metadata": {},
   "outputs": [],
   "source": [
    "#7.9\n",
    "finish_sandwich=[]\n",
    "sandwich_orders=[\"pastrami\",\"mixto\",\"vegetal\",\"pastrami\",\"pollo\",\"pastrami\"]\n",
    "print(\"La carniceria se quedo sin pastrami\")\n",
    "for i in sandwich_orders:\n",
    "       sandwich_orders.remove(\"pastrami\")\n",
    "       tamaño=len(sandwich_orders)\n",
    "while len(finish_sandwich) <tamaño:\n",
    "       for i in sandwich_orders:\n",
    "              print(\"Hice su sandwich\",i)\n",
    "              finish_sandwich.append(i)\n",
    "              sandwich_orders.remove(i)\n",
    "print(finish_sandwich)    \n",
    "         "
   ]
  },
  {
   "cell_type": "code",
   "execution_count": null,
   "metadata": {},
   "outputs": [],
   "source": [
    "#7.10\n",
    "nombre=[]\n",
    "lugar=[]\n",
    "cont=0\n",
    "while cont <2:\n",
    "    nombre=input(print(\"Introduce tu nombre:\"))\n",
    "    lugar=input(print(\"Si pudieras viajar donde irias\"))\n",
    "    cont= cont+1\n",
    "    print(\"El encuestado con nombre:\",nombre,\"iria de viaje a:\",lugar)\n",
    "        "
   ]
  }
 ],
 "metadata": {
  "interpreter": {
   "hash": "3715ed6a1757b6d442655617903a8f5e405973e8d291d76c5c0ce00539a5620e"
  },
  "kernelspec": {
   "display_name": "Python 3.9.5 ('base')",
   "language": "python",
   "name": "python3"
  },
  "language_info": {
   "codemirror_mode": {
    "name": "ipython",
    "version": 3
   },
   "file_extension": ".py",
   "mimetype": "text/x-python",
   "name": "python",
   "nbconvert_exporter": "python",
   "pygments_lexer": "ipython3",
   "version": "3.9.5"
  },
  "orig_nbformat": 4
 },
 "nbformat": 4,
 "nbformat_minor": 2
}
