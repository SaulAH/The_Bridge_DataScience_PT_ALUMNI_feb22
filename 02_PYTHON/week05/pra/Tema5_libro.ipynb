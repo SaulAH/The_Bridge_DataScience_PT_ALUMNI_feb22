{
 "cells": [
  {
   "cell_type": "markdown",
   "metadata": {},
   "source": [
    "#Python-Crash\n",
    "#5-1. Conditional Tests: Write a series of conditional tests. Print a statement \n",
    "#describing each test and your prediction for the results of each test."
   ]
  },
  {
   "cell_type": "code",
   "execution_count": null,
   "metadata": {},
   "outputs": [],
   "source": [
    " \n",
    "\n",
    "i=0\n",
    "while i < 5:\n",
    "    car=input(print(\"Introduce marca de coche, yo te dare mi predicción:\"))\n",
    "    if car == \"subaru\":\n",
    "        print(\"It´s the car == \"\"subaru\"\"?,I predict True\")\n",
    "        print(car)\n",
    "    else:\n",
    "        print(\"It´s the car ==\", car,\"?, I predict False\")\n",
    "        print(car)\n",
    "    i+=1"
   ]
  },
  {
   "cell_type": "markdown",
   "metadata": {},
   "source": [
    "conditional_test.py\n",
    "5-2. More Conditional Tests: You don’t have to limit the number of tests you \n",
    "create to ten. If you want to try more comparisons, write more tests and add \n",
    "them to conditional_tests.py. Have at least one True and one False result for \n",
    "each of the following:\n",
    "\n",
    "Tests for equality and inequality with strings\n",
    "Tests using the lower() method\n",
    "Numerical tests involving equality and inequality, greater than and less than, \n",
    "greater than or equal to, and less than or equal to\n",
    "Tests using the and keyword and the or keyword\n",
    "Test whether an item is in a list\n",
    "Test whether an item is not in a list"
   ]
  },
  {
   "cell_type": "code",
   "execution_count": null,
   "metadata": {},
   "outputs": [],
   "source": [
    "cad1=\"hola\"\n",
    "cad2=\"Dios\"\n",
    "num1=8\n",
    "num2=12\n",
    "\n",
    "if cad1==cad2:\n",
    "    print(\"Las cadenas son iguales:True\")\n",
    "else:\n",
    "    print(\"Las cadenas son distintas:False\")\n",
    "\n",
    "if cad1==cad1.lower():\n",
    "    print(\"Las cadenas son iguales:True\")\n",
    "else:\n",
    "    print(\"Las cadenas son distintas:False\")\n",
    "\n",
    "if num1==num2:\n",
    "    print(\"Los numeros son iguales\")\n",
    "else:\n",
    "    print(\"Los numeros no son iguales\")\n",
    "\n",
    "if num1>num2 and num1 != num2:\n",
    "    print(\"El\", num1,\"es mayor que\",num2)\n",
    "else:\n",
    "    print(\"El\", num2,\"es mayor que\",num1)\n",
    "\n",
    "if num1>=num2:\n",
    "    rint(\"El\", num1,\"es mayor o igual que\",num2)\n",
    "else:\n",
    "    print(\"El\", num2,\"es mayor o igual que\",num1)"
   ]
  },
  {
   "cell_type": "markdown",
   "metadata": {},
   "source": [
    "5-3. Alien Colors #1: Imagine an alien was just shot down in a game. Create a \n",
    "variable called alien_color and assign it a value of 'green', 'yellow', or \n",
    "'red'.\n",
    "\n",
    "Write an if statement to test whether the alien’s color is green. If it is, \n",
    "print a message that the player just earned 5 points.\n",
    "Write one version of this program that passes the if test and another that \n",
    "fails. (The version that fails will have no output.)"
   ]
  },
  {
   "cell_type": "code",
   "execution_count": null,
   "metadata": {},
   "outputs": [],
   "source": [
    "alien_color=\"verde\"\n",
    "if alien_color==\"verde\":\n",
    "    print(\"Jugador_1 has ganado 5 puntos\")\n",
    "\n",
    "alien_color=\"rojo\"\n",
    "if alien_color!=\"verde\":\n",
    "    alien_color=\"rojo\"\n"
   ]
  },
  {
   "cell_type": "markdown",
   "metadata": {},
   "source": [
    "5-4. Alien Colors #2: Choose a color for an alien as you did in Exercise 5-3, \n",
    "and write an if-else chain.\n",
    "\n",
    "If the alien’s color is green, print a statement that the player just earned 5\n",
    " points for shooting the alien.\n",
    "If the alien’s color isn’t green, print a statement that the player just earned\n",
    " 10 points.\n",
    "Write one version of this program that runs the if block and another that runs \n",
    "the else block."
   ]
  },
  {
   "cell_type": "code",
   "execution_count": null,
   "metadata": {},
   "outputs": [],
   "source": [
    "#version_1\n",
    "alien_color=\"verde\"\n",
    "if alien_color==\"verde\":\n",
    "    print(\"Jugador_1 has ganado 5 puntos, disparaste al alien\")\n",
    "else:\n",
    "    print(\"Jugador_1 has ganado 10 puntos, disparaste al alien\")\n",
    "#version 2\n",
    "alien_color=\"rojo\"\n",
    "if alien_color==\"verde\":\n",
    "    print(\"Jugador_1 has ganado 5 puntos, disparaste al alien\")\n",
    "else:\n",
    "    print(\"Jugador_1 has ganado 10 puntos, disparaste al alien\")"
   ]
  },
  {
   "cell_type": "markdown",
   "metadata": {},
   "source": [
    "5-5. Alien Colors #3: Turn your if-else chain from Exercise 5-4 into an if-elif\n",
    "-else chain.\n",
    "\n",
    "If the alien is green, print a message that the player earned 5 points.\n",
    "If the alien is yellow, print a message that the player earned 10 points.\n",
    "If the alien is red, print a message that the player earned 15 points.\n",
    "Write three versions of this program, making sure each message is printed for \n",
    "the appropriate color alien.\n"
   ]
  },
  {
   "cell_type": "code",
   "execution_count": null,
   "metadata": {},
   "outputs": [],
   "source": [
    "alien_color=\"rojo\"\n",
    "if alien_color==\"verde\":\n",
    "    print(\"Jugador_1 has ganado 5 puntos, disparaste al alien\")\n",
    "elif alien_color==\"amarillo\":\n",
    "    print(\"Jugador_1 has ganado 10 puntos, disparaste al alien\")\n",
    "else:\n",
    "    if alien_color !=\"rojo\":\n",
    "        print(\"color equivocado\")\n",
    "    else:\n",
    "        print(\"Jugador_1 has ganado 15 puntos, disparaste al alien\")"
   ]
  },
  {
   "cell_type": "markdown",
   "metadata": {},
   "source": [
    "5-6. Stages of Life: Write an if-elif-else chain that determines a person’s\n",
    " stage of life. Set a value for the variable age, and then:\n",
    "\n",
    "If the person is less than 2 years old, print a message that the person is a baby.\n",
    "If the person is at least 2 years old but less than 4, print a message that \n",
    "the person is a toddler.\n",
    "If the person is at least 4 years old but less than 13, print a message that\n",
    " the person is a kid.\n",
    "If the person is at least 13 years old but less than 20, print a message that\n",
    " the person is a teenager.\n",
    "If the person is at least 20 years old but less than 65, print a message that \n",
    "the person is an adult.\n",
    "If the person is age 65 or older, print a message that the person is an elder.\n",
    "\n"
   ]
  },
  {
   "cell_type": "code",
   "execution_count": null,
   "metadata": {},
   "outputs": [],
   "source": [
    "edad=45\n",
    "if edad < 2:\n",
    "    print(\"Eres un bebe\")\n",
    "if edad >= 2 and edad < 4:\n",
    "    print(\"Eres un niñ@ pequeño\")\n",
    "elif edad >= 4 and edad < 13:\n",
    "    print(\"Eres un niñ@\")\n",
    "elif edad >= 13 and edad < 20:\n",
    "    print(\"Eres un adolescente\")\n",
    "elif edad >= 20 and edad < 65:\n",
    "    print(\"Eres un adult@\")\n",
    "elif edad >= 65:\n",
    "    print(\"Eres mayor\")"
   ]
  },
  {
   "cell_type": "markdown",
   "metadata": {},
   "source": [
    "5-7. Favorite Fruit: Make a list of your favorite fruits, and then write a \n",
    "series of independent if statements that check for certain fruits in your list.\n",
    "\n",
    "Make a list of your three favorite fruits and call it favorite_fruits.\n",
    "Write five if statements. Each should check whether a certain kind of fruit is \n",
    "in your list. If the fruit is in your list, the if block should print a \n",
    "statement, such as You really like bananas!\n",
    "\n"
   ]
  },
  {
   "cell_type": "code",
   "execution_count": null,
   "metadata": {},
   "outputs": [],
   "source": [
    "frutas_favoritas=[\"melocoton\",\"sandia\",\"cerezas\"]\n",
    "\n",
    "if \"sandia\" in frutas_favoritas:\n",
    "    print(\"Realmente le gusta la sandia\")\n",
    "if \"cerezas\" in frutas_favoritas:\n",
    "    print(\"Realmente le gustan las cerezas\")\n",
    "if \"melocoton\" in frutas_favoritas:\n",
    "    print(\"Realmente le gustan las melocoton\")\n",
    "\n",
    "if \"melocoton\" in frutas_favoritas:\n",
    "    print(\"Realmente le gustan los melocotones\")\n",
    "if \"sandia\" in frutas_favoritas:\n",
    "    print(\"Realmente le gusta la sandia\")\n",
    "if \"cerezas\" in frutas_favoritas:\n",
    "    print(\"Realmente le gustan las cerezas\")\n",
    "if \"pera\" in frutas_favoritas:\n",
    "    print(\"Realmente le gustan las pera\")\n",
    "if \"fresas\" in frutas_favoritas:\n",
    "    print(\"Realmente le gustan las fresas\")"
   ]
  },
  {
   "cell_type": "markdown",
   "metadata": {},
   "source": [
    "5-8. Hello Admin: Make a list of five or more usernames, including the name\n",
    " 'admin'. Imagine you are writing code that will print a greeting to each user \n",
    " after they log in to a website. Loop through the list, and print a greeting \n",
    " to each user:\n",
    "\n",
    "If the username is 'admin', print a special greeting, such as Hello admin, \n",
    "would you like to see a status report?\n",
    "Otherwise, print a generic greeting, such as Hello Jaden, thank you for \n",
    "logging in again.\n",
    "\n"
   ]
  },
  {
   "cell_type": "code",
   "execution_count": null,
   "metadata": {},
   "outputs": [],
   "source": [
    "list_usuarios=[\"David\",\"Almu\",\"Mireia\",\"admin\",\"Paula\"]\n",
    "for i in list_usuarios:\n",
    "    print(\"Hola\",i)"
   ]
  },
  {
   "cell_type": "code",
   "execution_count": null,
   "metadata": {},
   "outputs": [],
   "source": [
    "for i in list_usuarios:\n",
    "    if i ==\"admin\":\n",
    "        print(\"Hola\",i,\",¿le gustaría ver un informe de estado?\")\n",
    "    else:\n",
    "        print(\"Hola\",i,\"gracias por iniciar sesión nuevamente\")"
   ]
  },
  {
   "cell_type": "markdown",
   "metadata": {},
   "source": [
    "5-9. No Users: Add an if test to hello_admin.py to make sure the list of \n",
    "users is not empty.\n",
    "\n",
    "If the list is empty, print the message We need to find some users!\n",
    "Remove all of the usernames from your list, and make sure the correct message \n",
    "is printed.\n"
   ]
  },
  {
   "cell_type": "code",
   "execution_count": null,
   "metadata": {},
   "outputs": [],
   "source": [
    "list_usuarios=[]\n",
    "len(list_usuarios)\n",
    "if len(list_usuarios) == 0:\n",
    "    print(\"La lista contiene\",len(list_usuarios),\"usuarios, necesitamos encontrar algunos usuarios\")\n",
    "else:\n",
    "    for i in list_usuarios:\n",
    "        if i ==\"admin\":\n",
    "            print(\"Hola\",i,\",¿le gustaría ver un informe de estado?\")\n",
    "        else:\n",
    "            print(\"Hola\",i,\"gracias por iniciar sesión nuevamente\")\n"
   ]
  },
  {
   "cell_type": "markdown",
   "metadata": {},
   "source": [
    "5-10. Checking Usernames: Do the following to create a program that simulates \n",
    "how websites ensure that everyone has a unique username.\n",
    "\n",
    "Make a list of five or more usernames called current_users.\n",
    "Make another list of five usernames called new_users. Make sure one or two of \n",
    "the new usernames are also in the current_users list.\n",
    "Loop through the new_users list to see if each new username has already \n",
    "been used. If it has, print a message that the person will need to enter a\n",
    " new username. If a username has not been used, print a message saying that\n",
    "  the username is available.\n",
    "Make sure your comparison is case insensitive. If 'John' has been used,\n",
    " 'JOHN' should not be accepted. (To do this, you’ll need to make a copy of \n",
    " current_users containing the lowercase versions of all existing users.)\n"
   ]
  },
  {
   "cell_type": "code",
   "execution_count": 108,
   "metadata": {},
   "outputs": [
    {
     "name": "stdout",
     "output_type": "stream",
     "text": [
      "El usuario Mireia no esta disponible, debe cambiar este\n",
      "El usuario Paula no esta disponible, debe cambiar este\n",
      "El usuario Paco  esta disponible\n",
      "El usuario Rosario  esta disponible\n"
     ]
    }
   ],
   "source": [
    "usuarios=[\"David\",\"Almu\",\"Mireia\",\"Paula\",\"Oto\"]\n",
    "usuarios2=[\"david\",\"mireia\",\"paula\",\"oto\",\"almu\"]\n",
    "nuevos_usuarios=[\"Mireia\",\"Paula\",\"Paco\",\"Rosario\"]\n",
    "\n",
    "for j in nuevos_usuarios:\n",
    "    if j in usuarios or j in usuarios2:\n",
    "        print(\"El usuario\",j,\"no esta disponible, debe cambiar este\")\n",
    "    else:\n",
    "        print(\"El usuario\",j,\" esta disponible\")\n"
   ]
  },
  {
   "cell_type": "markdown",
   "metadata": {},
   "source": [
    "5-11. Ordinal Numbers: Ordinal numbers indicate their position in a list, \n",
    "such as 1st or 2nd. Most ordinal numbers end in th, except 1, 2, and 3.\n",
    "\n",
    "Store the numbers 1 through 9 in a list.\n",
    "Loop through the list.\n",
    "Use an if-elif-else chain inside the loop to print the proper ordinal ending\n",
    " for each number. Your output should read \"1st 2nd 3rd 4th 5th 6th 7th 8th 9th\"\n",
    " , and each result should be on a separate line."
   ]
  },
  {
   "cell_type": "code",
   "execution_count": null,
   "metadata": {},
   "outputs": [],
   "source": [
    "numeros_ord=[1,2,3,4,5,6,7,8,9]\n",
    "for i in numeros_ord:\n",
    "    if i >=4:\n",
    "        temp=str(i)+\"th\"\n",
    "        print(temp)\n",
    "    elif i == 1:\n",
    "        temp=str(i)+\"st\"\n",
    "        print(temp)\n",
    "    elif i == 2:\n",
    "        temp=str(i)+\"nd\"\n",
    "        print(temp)\n",
    "    else:\n",
    "        temp=str(i)+\"rd\"\n",
    "        print(temp)"
   ]
  },
  {
   "cell_type": "markdown",
   "metadata": {},
   "source": [
    "5-12. Styling if statements: Review the programs you wrote in this chapter,\n",
    " and make sure you styled your conditional tests appropriately.\n",
    "5-13. Your Ideas: At this point, you’re a more capable programmer than you were\n",
    " when you started this book. Now that you have a better sense of how real-world\n",
    "  situations are modeled in programs, you might be thinking of some problems \n",
    "  you could solve with your own programs. Record any new ideas you have about \n",
    "  problems you might want to solve as your programming skills continue to \n",
    "  improve. Consider games you might want to write, data sets you might want to\n",
    "   explore, and web applications you’d like to create.\n",
    "\n"
   ]
  },
  {
   "cell_type": "code",
   "execution_count": null,
   "metadata": {},
   "outputs": [],
   "source": []
  },
  {
   "cell_type": "markdown",
   "metadata": {},
   "source": []
  }
 ],
 "metadata": {
  "interpreter": {
   "hash": "3715ed6a1757b6d442655617903a8f5e405973e8d291d76c5c0ce00539a5620e"
  },
  "kernelspec": {
   "display_name": "Python 3.9.5 ('base')",
   "language": "python",
   "name": "python3"
  },
  "language_info": {
   "codemirror_mode": {
    "name": "ipython",
    "version": 3
   },
   "file_extension": ".py",
   "mimetype": "text/x-python",
   "name": "python",
   "nbconvert_exporter": "python",
   "pygments_lexer": "ipython3",
   "version": "3.9.5"
  },
  "orig_nbformat": 4
 },
 "nbformat": 4,
 "nbformat_minor": 2
}
