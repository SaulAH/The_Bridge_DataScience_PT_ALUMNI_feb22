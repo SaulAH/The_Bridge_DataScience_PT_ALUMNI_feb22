{
 "cells": [
  {
   "cell_type": "markdown",
   "metadata": {},
   "source": [
    "TRY IT YOURSELF\n",
    "\n",
    "6-1. Person: Use a dictionary to store information about a person you know. \n",
    "Store their first name, last name, age, and the city in which they live. You \n",
    "should have keys such as first_name, last_name, age, and city. Print each piece\n",
    " of information stored in your dictionary.\n"
   ]
  },
  {
   "cell_type": "code",
   "execution_count": 3,
   "metadata": {},
   "outputs": [
    {
     "name": "stdout",
     "output_type": "stream",
     "text": [
      "{'name': 'David', 'last_name': 'Calabuig', 'age': '45', 'city': 'Valencia'}\n"
     ]
    }
   ],
   "source": [
    "person = {\"name\":\"David\",\"last_name\":\"Calabuig\",\"age\":\"45\",\"city\":\"Valencia\"}\n",
    "person.keys()\n",
    "person.values()\n",
    "print(person)"
   ]
  },
  {
   "cell_type": "markdown",
   "metadata": {},
   "source": [
    "6-2. Favorite Numbers: Use a dictionary to store people’s favorite numbers. \n",
    "Think of five names, and use them as keys in your dictionary. Think of a \n",
    "favorite number for each person, and store each as a value in your dictionary. \n",
    "Print each person’s name and their favorite number. For even more fun, poll a \n",
    "few friends and get some actual data for your program.\n"
   ]
  },
  {
   "cell_type": "code",
   "execution_count": null,
   "metadata": {},
   "outputs": [],
   "source": [
    "fav_numbers={\"David\":\"8\",\"Almu\":\"10\",\"Mireia\":\"13\",\"Paula\":\"2\",\"Oto\":\"21\"}\n",
    "print(f\"\\n\",fav_numbers.items())\n"
   ]
  },
  {
   "cell_type": "markdown",
   "metadata": {},
   "source": [
    "6-3. Glossary: A Python dictionary can be used to model an actual dictionary. \n",
    "However, to avoid confusion, let’s call it a glossary.\n",
    "\n",
    "Think of five programming words you’ve learned about in the previous chapters. \n",
    "Use these words as the keys in your glossary, and store their meanings as \n",
    "values.\n",
    "Print each word and its meaning as neatly formatted output. You might print \n",
    "the word followed by a colon and then its meaning, or print the word on one \n",
    "line and then print its meaning indented on a second line. Use the newline \n",
    "character (\\n) to insert a blank line between each word-meaning pair in your \n",
    "output.\n"
   ]
  },
  {
   "cell_type": "code",
   "execution_count": null,
   "metadata": {},
   "outputs": [],
   "source": [
    "glosario = {\"int\":\"entero\",\"list\":\"lista\",\"if\":\"si\",\"while\":\"mientras\",\"float\":\"flotante\"}\n",
    "print (\"int:\",glosario[\"int\"])\n",
    "print (\"list:\",glosario[\"list\"])\n",
    "print (\"if:\",glosario[\"if\"])\n",
    "print (\"while:\",glosario[\"while\"])\n",
    "print (\"float:\",glosario[\"float\"])"
   ]
  },
  {
   "cell_type": "markdown",
   "metadata": {},
   "source": [
    "6-4. Glossary 2: Now that you know how to loop through a dictionary, clean up \n",
    "the code from Exercise 6-3 (page 99) by replacing your series of print() calls\n",
    " with a loop that runs through the dictionary’s keys and values. When you’re \n",
    " sure that your loop works, add five more Python terms to your glossary. When \n",
    " you run your program again, these new words and meanings should automatically \n",
    " be included in the output."
   ]
  },
  {
   "cell_type": "code",
   "execution_count": null,
   "metadata": {},
   "outputs": [],
   "source": [
    "glosario={\"int\":\"entero\",\"list\":\"lista\",\"if\":\"si\",\"while\":\"mientras\",\"float\":\"flotante\",\"True\":\"Verdadero\",\"False\":\"Falso\",\"for\":\"desde\",\"dict\":\"diccionario\"}\n",
    "for i, j in glosario.items():\n",
    "    print(f\"\\nKey:{i}\",f\"Value:{j}\")"
   ]
  },
  {
   "cell_type": "markdown",
   "metadata": {},
   "source": [
    "6-5. Rivers: Make a dictionary containing three major rivers and the country \n",
    "each river runs through. One key-value pair might be 'nile': 'egypt'.\n",
    "\n",
    "Use a loop to print a sentence about each river, such as The Nile runs through\n",
    " Egypt.\n",
    "Use a loop to print the name of each river included in the dictionary.\n",
    "Use a loop to print the name of each country included in the dictionary.\n"
   ]
  },
  {
   "cell_type": "code",
   "execution_count": null,
   "metadata": {},
   "outputs": [],
   "source": [
    "rios={\"nilo\":\"Egipto\",\"amazonas\":\"Brasil\",\"yantgse\":\"China\"}\n",
    "for i,j in rios.items():\n",
    "    if i == \"nilo\":\n",
    "        print(\"El\",i,\"atraviesa\",j)\n",
    "    if i == \"amazonas\":\n",
    "        print(\"El\",i,\"atraviesa\",j)\n",
    "    if i == \"yantgse\":\n",
    "        print(\"El\",i,\"atraviesa\",j)\n",
    "for i,j in rios.items():\n",
    "    print(\"El nombre del rio es:\",i)\n",
    "    print(\"El nombre del país que atraviesa el rio es:\",j)"
   ]
  },
  {
   "cell_type": "markdown",
   "metadata": {},
   "source": [
    "6-6. Polling: Use the code in favorite_languages.py (page 97).\n",
    "\n",
    "Make a list of people who should take the favorite languages poll. Include some\n",
    " names that are already in the dictionary and some that are not.\n",
    "Loop through the list of people who should take the poll. If they have already\n",
    " taken the poll, print a message thanking them for responding. If they have not\n",
    "  yet taken the poll, print a message inviting them to take the poll."
   ]
  },
  {
   "cell_type": "code",
   "execution_count": null,
   "metadata": {},
   "outputs": [],
   "source": [
    "dict_idiomas={\"David\":\"Castellano\",\"Mireia\":\"Ingles\",\"Paula\":\"Chino\",\"Almu\":\"Aleman\"}\n",
    "lista_en=[\"David\",\"Pedro\",\"Almu\",\"Antonio\",\"Juan\"]\n",
    "#for i in dict_idiomas:\n",
    "for j in lista_en:\n",
    "        if j in dict_idiomas:\n",
    "            print(\"Esta persona,\",j, \"ya ha participado en esta encuesta.\")\n",
    "        else:\n",
    "            print(\"Preguntale a\", j,\"si quiere participar en la encuesta.\")"
   ]
  },
  {
   "cell_type": "markdown",
   "metadata": {},
   "source": [
    "  6-7. People: Start with the program you wrote for Exercise 6-1 (page 99). \n",
    "  Make two new dictionaries representing different people, and store all three \n",
    "  dictionaries in a list called people. Loop through your list of people. As \n",
    "  you loop through the list, print everything you know about each person."
   ]
  },
  {
   "cell_type": "code",
   "execution_count": null,
   "metadata": {},
   "outputs": [],
   "source": [
    "person = {\"name\":\"David\",\"last_name\":\"Calabuig\",\"age\":\"45\",\"city\":\"Valencia\"}\n",
    "person2 = {\"name\":\"Almu\",\"last_name\":\"Gonzalez\",\"age\":\"46\",\"city\":\"Valencia\"}\n",
    "person3 = {\"name\":\"Mireia\",\"last_name\":\"Calabuig\",\"age\":\"12\",\"city\":\"Valencia\"}\n",
    "personas = [person,person2,person3]\n",
    "for i in personas:\n",
    "    print(\"Todo lo que se de ti es:\",i)\n"
   ]
  },
  {
   "cell_type": "markdown",
   "metadata": {},
   "source": [
    "6-8. Pets: Make several dictionaries, where each dictionary represents a \n",
    "different pet. In each dictionary, include the kind of animal and the owner’s \n",
    "name. Store these dictionaries in a list called pets. Next, loop through your \n",
    "list and as you do, print everything you know about each pet."
   ]
  },
  {
   "cell_type": "code",
   "execution_count": null,
   "metadata": {},
   "outputs": [],
   "source": [
    "mascota={\"animal\":\"perro\",\"dueño\":\"David\"}\n",
    "mascota2={\"animal\":\"gato\",\"dueño\":\"Almu\"}\n",
    "mascota3={\"animal\":\"periquito\",\"dueño\":\"Paula\"}\n",
    "mascotas=[mascota,mascota2,mascota3]\n",
    "for i in mascotas:\n",
    "    print(\"Todo lo que se de la mascota es:\",i)"
   ]
  },
  {
   "cell_type": "markdown",
   "metadata": {},
   "source": [
    "6-9. Favorite Places: Make a dictionary called favorite_places. Think of three\n",
    " names to use as keys in the dictionary, and store one to three favorite places\n",
    "  for each person. To make this exercise a bit more interesting, ask some \n",
    "  friends to name a few of their favorite places. Loop through the dictionary, \n",
    "  and print each person’s name and their favorite places.\n",
    "\n"
   ]
  },
  {
   "cell_type": "code",
   "execution_count": null,
   "metadata": {},
   "outputs": [],
   "source": [
    "lugares_fav={\"David\":\"Reikiavik, NY\",\"Almu\":\"NY, Paris, San Torini\",\"Paula\":\"Tokio, San Jose\"}\n",
    "\n",
    "for a,b in lugares_fav.items():\n",
    "    print(\"Los lugares favoritos de\",a,\"son:\",b)\n"
   ]
  },
  {
   "cell_type": "markdown",
   "metadata": {},
   "source": [
    "6-10. Favorite Numbers: Modify your program from Exercise 6-2 (page 99) so \n",
    "each person can have more than one favorite number. Then print each person’s \n",
    "name along with their favorite numbers.\n",
    "\n",
    "\n"
   ]
  },
  {
   "cell_type": "code",
   "execution_count": null,
   "metadata": {},
   "outputs": [],
   "source": [
    "fav_numbers={\"David\":\"8, 18, 21\",\"Almu\":\"10 , 13, 27\",\"Mireia\":\"13, 21\",\"Paula\":\"2, 8, 10\",\"Oto\":\"21, 57\"}\n",
    "for nom,num in fav_numbers.items():\n",
    "    print(\"Los numeros favoritos de\",nom,\"son:\",num)\n",
    "\n"
   ]
  },
  {
   "cell_type": "markdown",
   "metadata": {},
   "source": [
    "6-11. Cities: Make a dictionary called cities. Use the names of three cities as\n",
    " keys in your dictionary. Create a dictionary of information about each city \n",
    " and include the country that the city is in, its approximate population, and \n",
    " one fact about that city. The keys for each city’s dictionary should be \n",
    " something like country, population, and fact. Print the name of each city and \n",
    " all of the information you have stored about it."
   ]
  },
  {
   "cell_type": "code",
   "execution_count": 153,
   "metadata": {},
   "outputs": [
    {
     "ename": "TypeError",
     "evalue": "'builtin_function_or_method' object is not subscriptable",
     "output_type": "error",
     "traceback": [
      "\u001b[1;31m---------------------------------------------------------------------------\u001b[0m",
      "\u001b[1;31mTypeError\u001b[0m                                 Traceback (most recent call last)",
      "\u001b[1;32mc:\\Users\\David\\Documents\\GitHub\\THE_BRIDGE_DS_ALUMNI_feb22\\02_PYTHON\\week05\\pra\\Tema6_libro.ipynb Cell 22'\u001b[0m in \u001b[0;36m<module>\u001b[1;34m\u001b[0m\n\u001b[0;32m      <a href='vscode-notebook-cell:/c%3A/Users/David/Documents/GitHub/THE_BRIDGE_DS_ALUMNI_feb22/02_PYTHON/week05/pra/Tema6_libro.ipynb#ch0000032?line=4'>5</a>\u001b[0m \u001b[39mfor\u001b[39;00m j \u001b[39min\u001b[39;00m ciudades:\n\u001b[0;32m      <a href='vscode-notebook-cell:/c%3A/Users/David/Documents/GitHub/THE_BRIDGE_DS_ALUMNI_feb22/02_PYTHON/week05/pra/Tema6_libro.ipynb#ch0000032?line=5'>6</a>\u001b[0m         \u001b[39mfor\u001b[39;00m i,k \u001b[39min\u001b[39;00m Londres\u001b[39m.\u001b[39mitems():\n\u001b[1;32m----> <a href='vscode-notebook-cell:/c%3A/Users/David/Documents/GitHub/THE_BRIDGE_DS_ALUMNI_feb22/02_PYTHON/week05/pra/Tema6_libro.ipynb#ch0000032?line=6'>7</a>\u001b[0m             \u001b[39mprint\u001b[39m(\u001b[39m\"\u001b[39m\u001b[39mLa ciudad es\u001b[39m\u001b[39m\"\u001b[39m, j, \u001b[39m\"\u001b[39m\u001b[39msus datos son, pais:\u001b[39m\u001b[39m\"\u001b[39m, Londres\u001b[39m.\u001b[39;49mvalues[\u001b[39m1\u001b[39;49m], \u001b[39m\"\u001b[39m\u001b[39m,poblacion:\u001b[39m\u001b[39m\"\u001b[39m,k,\u001b[39m\"\u001b[39m\u001b[39mhecho:\u001b[39m\u001b[39m\"\u001b[39m)\n\u001b[0;32m      <a href='vscode-notebook-cell:/c%3A/Users/David/Documents/GitHub/THE_BRIDGE_DS_ALUMNI_feb22/02_PYTHON/week05/pra/Tema6_libro.ipynb#ch0000032?line=8'>9</a>\u001b[0m         \u001b[39mprint\u001b[39m(j)\n",
      "\u001b[1;31mTypeError\u001b[0m: 'builtin_function_or_method' object is not subscriptable"
     ]
    }
   ],
   "source": [
    "ciudades={\"Londres\",\"Valencia\",\"Gales\"}\n",
    "#ciudades_des={{\"Pais\":\"Inglaterra\",\"Poblacion\":\"28.000.000\",\"dato\":\"niebla\"},{\"Pais\":\"España\",\"poblacion\":\"47.000.000\",\"dato\":\"sol\"},{\"Pais\":\"Francia\",\"poblacion\":\"42.000.000\",\"dato\":\"rugby\"}}\n",
    "Londres={\"Pais\":\"Inglaterra\",\"Poblacion\":\"28.000.000\",\"dato\":\"niebla\"}\n",
    "\n",
    "for j in ciudades:\n",
    "        for i,k in Londres.items():\n",
    "            print(\"La ciudad es\", j, \"sus datos son, pais:\", Londres.values[1], \",poblacion:\",k,\"hecho:\")\n",
    "\n",
    "        print(j)\n"
   ]
  },
  {
   "cell_type": "markdown",
   "metadata": {},
   "source": [
    "6-12. Extensions: We’re now working with examples that are complex enough that \n",
    "they can be extended in any number of ways. Use one of the example programs \n",
    "from this chapter, and extend it by adding new keys and values, changing the \n",
    "context of the program or improving the formatting of the output."
   ]
  }
 ],
 "metadata": {
  "interpreter": {
   "hash": "3715ed6a1757b6d442655617903a8f5e405973e8d291d76c5c0ce00539a5620e"
  },
  "kernelspec": {
   "display_name": "Python 3.9.5 ('base')",
   "language": "python",
   "name": "python3"
  },
  "language_info": {
   "codemirror_mode": {
    "name": "ipython",
    "version": 3
   },
   "file_extension": ".py",
   "mimetype": "text/x-python",
   "name": "python",
   "nbconvert_exporter": "python",
   "pygments_lexer": "ipython3",
   "version": "3.9.5"
  },
  "orig_nbformat": 4
 },
 "nbformat": 4,
 "nbformat_minor": 2
}
