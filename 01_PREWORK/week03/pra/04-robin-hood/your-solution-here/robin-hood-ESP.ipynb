{
 "cells": [
  {
   "cell_type": "markdown",
   "metadata": {},
   "source": [
    "# Robin Hood: \n",
    "Estamos en plena competición para ganar el concurso de tiro con arco en Sherwood. Con nuestro arco y flechas disparamos sobre una diana e intentamos acertar lo más cerca posible del centro. \n",
    "\n",
    "El centro de la diana viene representado por los valores (0, 0) en los ejes de coordenadas. \n",
    "\n",
    "## Objetivos: \n",
    "* estructuras de datos: listas, conjuntos, tuplas\n",
    "* operadores lógicos: if-elif-else\n",
    "* bucle: while/for\n",
    "* cálculo de mínimo (sorting opcional)\n",
    "\n",
    "## Descripción: \n",
    "En el espacio de 2 dimensiones un punto se puede definir por un par de valores que corresponden a la coordenada horizontal (x) y a la vertical (y). El espacio puede quedar dividido en 4 zonas (cuadrantes): Q1, Q2, Q3, Q4. Cuyo punto de unión único es el punto (0, 0). \n",
    "\n",
    "Si un punto se encuentra en Q1 tanto su coordenada x como la y son positivas. Te dejo un enlace a wikipedia para que te familiarices con estos cuadrantes. \n",
    "\n",
    "https://es.wikipedia.org/wiki/Coordenadas_cartesianas\n",
    "\n",
    "https://es.wikipedia.org/wiki/Distancia_euclidiana\n",
    "\n",
    "## Tareas\n",
    "1. Robin Hood es famoso por acertar a una flecha con otra flecha. ¿Lo ha conseguido? \n",
    "2. Calcula cuántos flechazos han caido en cada cuadrante. \n",
    "3. Halla el punto más cercano al centro. Calcula su distancia al centro\n",
    "4. Si la diana tiene un radio de 9, calcula el número de flechas que hay que recoger al bosque. "
   ]
  },
  {
   "cell_type": "code",
   "execution_count": null,
   "metadata": {},
   "outputs": [],
   "source": [
    "puntos = [(4,5), (0,2), (4,7), (1,-3), (3,-2), (4,5), \n",
    "          (3,2), (5,7), (-5,7), (2,2), (-4,5), (0,-2), \n",
    "          (-4,7), (-1,3), (-3,2), (-4,-5), (-3,2), \n",
    "          (5,7), (5,7), (2,2), (9, 9), (-8, -9)]\n",
    "\n",
    "# 1. Robin Hood es famoso por acertar a una flecha con otra flecha. ¿Lo ha conseguido? \n",
    "c_puntos =list(puntos)\n",
    "acierto=0\n",
    "acumula=0\n",
    "for punto in set(c_puntos):\n",
    "    acierto=c_puntos.count(punto)\n",
    "    if acierto >=2:\n",
    "       acumula = acumula + acierto\n",
    "print(\"Robin Hood lo ha conseguido:\",acumula,\"veces\") \n",
    "\n",
    "\n",
    "\n",
    "\n"
   ]
  },
  {
   "cell_type": "code",
   "execution_count": null,
   "metadata": {},
   "outputs": [],
   "source": [
    "# 2. Calcula cuántos flechazos han caido en cada cuadrante. \n",
    "puntos = [(4,5), (0,2), (4,7), (1,-3), (3,-2), (4,5), \n",
    "          (3,2), (5,7), (-5,7), (2,2), (-4,5), (0,-2), \n",
    "          (-4,7), (-1,3), (-3,2), (-4,-5), (-3,2), \n",
    "          (5,7), (5,7), (2,2), (9, 9), (-8, -9)]\n",
    "\n",
    "c_puntos =list(puntos)\n",
    "c1=(0,0)\n",
    "n1=0\n",
    "n2=0\n",
    "n3=0\n",
    "n4=0\n",
    "for punto in c_puntos:\n",
    "    if punto[0] > c1[0] and punto[1] > c1[1]:\n",
    "        n1=n1 +1\n",
    "    elif punto[0] < c1[0] and punto[1] < c1[1]:\n",
    "        n4=n4+1\n",
    "    elif punto[0] < c1[0] and punto[1] > c1[1]:\n",
    "        n3=n3 +1\n",
    "    else:\n",
    "        n2=n2+1\n",
    "print(\"1 cuadrante\", n1)\n",
    "print(\"2 cuadrante\", n2)\n",
    "print(\"3 cuadrante\", n3)\n",
    "print(\"4 cuadrante\", n4)   "
   ]
  },
  {
   "cell_type": "code",
   "execution_count": 349,
   "metadata": {},
   "outputs": [
    {
     "name": "stdout",
     "output_type": "stream",
     "text": [
      "Las flechas que han estado mas cerca del centro son: (0, 2) (0, -2)\n"
     ]
    }
   ],
   "source": [
    "# 3. Halla el punto más cercano al centro. Calcula su distancia al centro\n",
    "puntos = [(4,5), (0,2), (4,7), (1,-3), (3,-2), (4,5), \n",
    "          (3,2), (5,7), (-5,7), (2,2), (-4,5), (0,-2), \n",
    "          (-4,7), (-1,3), (-3,2), (-4,-5), (-3,2), \n",
    "          (5,7), (5,7), (2,2), (9, 9), (-8, -9)]\n",
    "c_puntos =puntos\n",
    "centro=(0,0)\n",
    "temp=max(c_puntos)\n",
    "temp2=min(c_puntos)\n",
    "for pt in c_puntos:\n",
    "    if pt >= centro:\n",
    "        if temp < pt:\n",
    "            temp = temp\n",
    "        else:\n",
    "            temp=pt\n",
    "    else:\n",
    "        if temp2 > pt:\n",
    "            temp2 = temp2\n",
    "        else:\n",
    "            temp2=pt\n",
    "print(\"Las flechas que han estado mas cerca del centro son:\",temp,temp2)"
   ]
  },
  {
   "cell_type": "code",
   "execution_count": null,
   "metadata": {},
   "outputs": [],
   "source": [
    "# 4. Si la diana tiene un radio de 9, calcula el número de flechas que hay que recoger al bosque. \n",
    "puntos = [(4,5), (0,2), (4,7), (1,-3), (3,-2), (4,5), \n",
    "          (3,2), (5,7), (-5,7), (2,2), (-4,5), (0,-2), \n",
    "          (-4,7), (-1,3), (-3,2), (-4,-5), (-3,2), \n",
    "          (5,7), (5,7), (2,2), (9, 9), (-8, -9)]\n",
    "c_puntos=puntos\n",
    "Q1=(4.5,4.5)\n",
    "Q2=(-4.5,4.5)\n",
    "Q3=(-4.5,-4.5)\n",
    "Q4=(4.5,-4.5)\n",
    "for i in c_puntos:\n",
    "    if i >= Q1:\n",
    "        print(\"fuera\")\n",
    "    else:\n",
    "        print(\"dentro\")"
   ]
  },
  {
   "cell_type": "code",
   "execution_count": 378,
   "metadata": {},
   "outputs": [
    {
     "name": "stdout",
     "output_type": "stream",
     "text": [
      "Flechas dentro: 10 Flechas fuera: 12\n"
     ]
    }
   ],
   "source": [
    "# 4. Si la diana tiene un radio de 9, calcula el número de flechas que hay que recoger al bosque. \n",
    "puntos = [(4,5), (0,2), (4,7), (1,-3), (3,-2), (4,5), \n",
    "          (3,2), (5,7), (-5,7), (2,2), (-4,5), (0,-2), \n",
    "          (-4,7), (-1,3), (-3,2), (-4,-5), (-3,2), \n",
    "          (5,7), (5,7), (2,2), (9, 9), (-8, -9)]\n",
    "c_puntos=puntos\n",
    "Q1_1=4.5\n",
    "Q1_2=-4.5\n",
    "fuera=0\n",
    "dentro=0\n",
    "for i,j in c_puntos:\n",
    "    a=float(i)\n",
    "    b=float(j)\n",
    "    if i >= 0 and j >=0:\n",
    "        if a > Q1_1:\n",
    "            fuera+=1\n",
    "        elif b> Q1_1:\n",
    "            fuera+=1\n",
    "        else:\n",
    "            dentro+=1\n",
    "    elif i < 0 and j <0:\n",
    "        if a < Q1_2:\n",
    "            fuera+=1\n",
    "        elif b < Q1_2:\n",
    "            fuera+=1\n",
    "        else:\n",
    "            dentro+=1\n",
    "    elif i < 0 and j >=0:\n",
    "        if a < Q1_2:\n",
    "            fuera+=1\n",
    "        elif b > Q1_1:\n",
    "            fuera+=1\n",
    "        else:\n",
    "            dentro+=1\n",
    "    else:\n",
    "        if a > Q1_1:\n",
    "            fuera+=1\n",
    "        elif b < Q1_2:\n",
    "            fuera+=1\n",
    "        else:\n",
    "            dentro+=1\n",
    "print(\"Flechas dentro:\",dentro,\"Flechas fuera:\",fuera)"
   ]
  }
 ],
 "metadata": {
  "kernelspec": {
   "display_name": "Python 3",
   "language": "python",
   "name": "python3"
  },
  "language_info": {
   "codemirror_mode": {
    "name": "ipython",
    "version": 3
   },
   "file_extension": ".py",
   "mimetype": "text/x-python",
   "name": "python",
   "nbconvert_exporter": "python",
   "pygments_lexer": "ipython3",
   "version": "3.9.5"
  }
 },
 "nbformat": 4,
 "nbformat_minor": 2
}
